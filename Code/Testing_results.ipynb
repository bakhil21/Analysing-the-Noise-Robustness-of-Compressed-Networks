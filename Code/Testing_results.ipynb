{
  "nbformat": 4,
  "nbformat_minor": 0,
  "metadata": {
    "colab": {
      "provenance": [],
      "gpuType": "T4"
    },
    "kernelspec": {
      "name": "python3",
      "display_name": "Python 3"
    },
    "language_info": {
      "name": "python"
    },
    "gpuClass": "standard",
    "accelerator": "GPU"
  },
  "cells": [
    {
      "cell_type": "code",
      "execution_count": null,
      "metadata": {
        "id": "f0mAkwOI-wuJ"
      },
      "outputs": [],
      "source": [
        "import torch \n",
        "import torchvision\n",
        "import torchvision.transforms as transforms\n",
        "import torch.optim as optim\n",
        "import torch.nn as nn\n",
        "import torch.nn.functional as F\n",
        "import numpy as np\n",
        "import matplotlib.pyplot as plt\n",
        "from torch.utils.data import random_split\n",
        "from torchvision import models\n",
        "from torchsummary import summary\n",
        "from tqdm import tqdm\n",
        "import albumentations as A\n",
        "from albumentations.pytorch import ToTensorV2"
      ]
    },
    {
      "cell_type": "code",
      "source": [
        "from google.colab import drive\n",
        "drive.mount('/content/drive')"
      ],
      "metadata": {
        "id": "UdPAqe6AWmcr"
      },
      "execution_count": null,
      "outputs": []
    },
    {
      "cell_type": "code",
      "source": [
        "device= torch.device('cuda' if torch.cuda.is_available() else 'cpu')\n",
        "\n",
        "########## Teacher Definition #############\n",
        "\n",
        "\n",
        "def conv3x3(in_planes, out_planes, stride=1, groups=1, dilation=1):\n",
        "    \"\"\"3x3 convolution with padding\"\"\"\n",
        "    return nn.Conv2d(in_planes, out_planes, kernel_size=3, stride=stride,\n",
        "                     padding=dilation, groups=groups, bias=False, dilation=dilation)\n",
        "\n",
        "\n",
        "def conv1x1(in_planes, out_planes, stride=1):\n",
        "    \"\"\"1x1 convolution\"\"\"\n",
        "    return nn.Conv2d(in_planes, out_planes, kernel_size=1, stride=stride, bias=False)\n",
        "\n",
        "\n",
        "class BasicBlock(nn.Module):\n",
        "    expansion = 1\n",
        "\n",
        "    def __init__(self, inplanes, planes, stride=1, downsample=None, groups=1,\n",
        "                 base_width=64, dilation=1, norm_layer=None):\n",
        "        super(BasicBlock, self).__init__()\n",
        "        if norm_layer is None:\n",
        "            norm_layer = nn.BatchNorm2d\n",
        "        if groups != 1 or base_width != 64:\n",
        "            raise ValueError(\n",
        "                'BasicBlock only supports groups=1 and base_width=64')\n",
        "        if dilation > 1:\n",
        "            raise NotImplementedError(\n",
        "                \"Dilation > 1 not supported in BasicBlock\")\n",
        "        # Both self.conv1 and self.downsample layers downsample the input when stride != 1\n",
        "        self.conv1 = conv3x3(inplanes, planes, stride)\n",
        "        self.bn1 = norm_layer(planes)\n",
        "        self.relu = nn.ReLU(inplace=True)\n",
        "        self.conv2 = conv3x3(planes, planes)\n",
        "        self.bn2 = norm_layer(planes)\n",
        "        self.downsample = downsample\n",
        "        self.stride = stride\n",
        "\n",
        "    def forward(self, x):\n",
        "        identity = x\n",
        "\n",
        "        out = self.conv1(x)\n",
        "        out = self.bn1(out)\n",
        "        out = self.relu(out)\n",
        "\n",
        "        out = self.conv2(out)\n",
        "        out = self.bn2(out)\n",
        "\n",
        "        if self.downsample is not None:\n",
        "            identity = self.downsample(x)\n",
        "\n",
        "        out += identity\n",
        "        out = self.relu(out)\n",
        "\n",
        "        return out\n",
        "\n",
        "\n",
        "class Bottleneck(nn.Module):\n",
        "    expansion = 4\n",
        "\n",
        "    def __init__(self, inplanes, planes, stride=1, downsample=None, groups=1,\n",
        "                 base_width=64, dilation=1, norm_layer=None):\n",
        "        super(Bottleneck, self).__init__()\n",
        "        if norm_layer is None:\n",
        "            norm_layer = nn.BatchNorm2d\n",
        "        width = int(planes * (base_width / 64.)) * groups\n",
        "        # Both self.conv2 and self.downsample layers downsample the input when stride != 1\n",
        "        self.conv1 = conv1x1(inplanes, width)\n",
        "        self.bn1 = norm_layer(width)\n",
        "        self.conv2 = conv3x3(width, width, stride, groups, dilation)\n",
        "        self.bn2 = norm_layer(width)\n",
        "        self.conv3 = conv1x1(width, planes * self.expansion)\n",
        "        self.bn3 = norm_layer(planes * self.expansion)\n",
        "        self.relu = nn.ReLU(inplace=True)\n",
        "        self.downsample = downsample\n",
        "        self.stride = stride\n",
        "\n",
        "    def forward(self, x):\n",
        "        identity = x\n",
        "\n",
        "        out = self.conv1(x)\n",
        "        out = self.bn1(out)\n",
        "        out = self.relu(out)\n",
        "\n",
        "        out = self.conv2(out)\n",
        "        out = self.bn2(out)\n",
        "        out = self.relu(out)\n",
        "\n",
        "        out = self.conv3(out)\n",
        "        out = self.bn3(out)\n",
        "\n",
        "        if self.downsample is not None:\n",
        "            identity = self.downsample(x)\n",
        "\n",
        "        out += identity\n",
        "        out = self.relu(out)\n",
        "\n",
        "        return out\n",
        "\n",
        "\n",
        "class ResNet(nn.Module):\n",
        "\n",
        "    def __init__(self, block, layers, num_classes=1000, zero_init_residual=False,\n",
        "                 groups=1, width_per_group=64, replace_stride_with_dilation=None,\n",
        "                 norm_layer=None):\n",
        "        super(ResNet, self).__init__()\n",
        "        if norm_layer is None:\n",
        "            norm_layer = nn.BatchNorm2d\n",
        "        self._norm_layer = norm_layer\n",
        "\n",
        "        self.inplanes = 64\n",
        "        self.dilation = 1\n",
        "        if replace_stride_with_dilation is None:\n",
        "            # each element in the tuple indicates if we should replace\n",
        "            # the 2x2 stride with a dilated convolution instead\n",
        "            replace_stride_with_dilation = [False, False, False]\n",
        "        if len(replace_stride_with_dilation) != 3:\n",
        "            raise ValueError(\"replace_stride_with_dilation should be None \"\n",
        "                             \"or a 3-element tuple, got {}\".format(replace_stride_with_dilation))\n",
        "        self.groups = groups\n",
        "        self.base_width = width_per_group\n",
        "        self.conv1 = nn.Conv2d(3, self.inplanes, kernel_size=7, stride=2, padding=3,\n",
        "                               bias=False)\n",
        "        \n",
        "        self.bn1 = norm_layer(self.inplanes)\n",
        "        self.relu = nn.ReLU(inplace=True)\n",
        "        self.maxpool = nn.MaxPool2d(kernel_size=3, stride=2, padding=1)\n",
        "        self.layer1 = self._make_layer(block, 64, layers[0])\n",
        "        self.layer2 = self._make_layer(block, 128, layers[1], stride=2,\n",
        "                                       dilate=replace_stride_with_dilation[0])\n",
        "        self.layer3 = self._make_layer(block, 256, layers[2], stride=2,\n",
        "                                       dilate=replace_stride_with_dilation[1])\n",
        "        self.layer4 = self._make_layer(block, 512, layers[3], stride=2,\n",
        "                                       dilate=replace_stride_with_dilation[2])\n",
        "        self.avgpool = nn.AdaptiveAvgPool2d((1, 1))\n",
        "        self.fc = nn.Linear(512 * block.expansion, num_classes)\n",
        "\n",
        "        for m in self.modules():\n",
        "            if isinstance(m, nn.Conv2d):\n",
        "                nn.init.kaiming_normal_(\n",
        "                    m.weight, mode='fan_out', nonlinearity='relu')\n",
        "            elif isinstance(m, (nn.BatchNorm2d, nn.GroupNorm)):\n",
        "                nn.init.constant_(m.weight, 1)\n",
        "                nn.init.constant_(m.bias, 0)\n",
        "\n",
        "        if zero_init_residual:\n",
        "            for m in self.modules():\n",
        "                if isinstance(m, Bottleneck):\n",
        "                    nn.init.constant_(m.bn3.weight, 0)\n",
        "                elif isinstance(m, BasicBlock):\n",
        "                    nn.init.constant_(m.bn2.weight, 0)\n",
        "\n",
        "    def _make_layer(self, block, planes, blocks, stride=1, dilate=False):\n",
        "        norm_layer = self._norm_layer\n",
        "        downsample = None\n",
        "        previous_dilation = self.dilation\n",
        "        if dilate:\n",
        "            self.dilation *= stride\n",
        "            stride = 1\n",
        "        if stride != 1 or self.inplanes != planes * block.expansion:\n",
        "            downsample = nn.Sequential(\n",
        "                conv1x1(self.inplanes, planes * block.expansion, stride),\n",
        "                norm_layer(planes * block.expansion),\n",
        "            )\n",
        "\n",
        "        layers = []\n",
        "        layers.append(block(self.inplanes, planes, stride, downsample, self.groups,\n",
        "                            self.base_width, previous_dilation, norm_layer))\n",
        "        self.inplanes = planes * block.expansion\n",
        "        for _ in range(1, blocks):\n",
        "            layers.append(block(self.inplanes, planes, groups=self.groups,\n",
        "                                base_width=self.base_width, dilation=self.dilation,\n",
        "                                norm_layer=norm_layer))\n",
        "\n",
        "        return nn.Sequential(*layers)\n",
        "\n",
        "    def _forward_impl(self, x):\n",
        "        x = self.conv1(x)\n",
        "        x = self.bn1(x)\n",
        "        x = self.relu(x)\n",
        "        x = self.maxpool(x)\n",
        "\n",
        "        x = self.layer1(x)\n",
        "        x = self.layer2(x)\n",
        "        x = self.layer3(x)\n",
        "        x = self.layer4(x)\n",
        "\n",
        "        x = self.avgpool(x)\n",
        "        x = torch.flatten(x, 1)\n",
        "        x = self.fc(x)\n",
        "\n",
        "        return x\n",
        "\n",
        "    def forward(self, x):\n",
        "        return self._forward_impl(x)\n",
        "\n",
        "def resnet_18(num_classes):\n",
        "\n",
        "    model = ResNet(block=BasicBlock, layers=[2, 2, 2, 2], num_classes=10)\n",
        "\n",
        "    model.conv1 = nn.Conv2d(3, 64, kernel_size=3, stride=1, padding=1,\n",
        "                            bias=False)\n",
        "\n",
        "    return model\n"
      ],
      "metadata": {
        "id": "vCsEqVweyUu4"
      },
      "execution_count": null,
      "outputs": []
    },
    {
      "cell_type": "code",
      "source": [
        "########## New Student ResNet block ####################\n",
        "\n",
        "class ResNet1(nn.Module):\n",
        "\n",
        "    def __init__(self, block, layers, num_classes=1000, zero_init_residual=False,\n",
        "                 groups=1, width_per_group=64, replace_stride_with_dilation=None,\n",
        "                 norm_layer=None):\n",
        "        super(ResNet1, self).__init__()\n",
        "        if norm_layer is None:\n",
        "            norm_layer = nn.BatchNorm2d\n",
        "        self._norm_layer = norm_layer\n",
        "\n",
        "        self.inplanes = 64\n",
        "        self.dilation = 1\n",
        "        if replace_stride_with_dilation is None:\n",
        "            # each element in the tuple indicates if we should replace\n",
        "            # the 2x2 stride with a dilated convolution instead\n",
        "            replace_stride_with_dilation = [False, False, False]\n",
        "        if len(replace_stride_with_dilation) != 3:\n",
        "            raise ValueError(\"replace_stride_with_dilation should be None \"\n",
        "                             \"or a 3-element tuple, got {}\".format(replace_stride_with_dilation))\n",
        "        self.groups = groups\n",
        "        self.base_width = width_per_group\n",
        "        self.conv1 = nn.Conv2d(3, self.inplanes, kernel_size=7, stride=2, padding=3,\n",
        "                               bias=False)\n",
        "        \n",
        "        self.bn1 = norm_layer(self.inplanes)\n",
        "        self.relu = nn.ReLU(inplace=True)\n",
        "        self.maxpool = nn.MaxPool2d(kernel_size=3, stride=2, padding=1)\n",
        "        self.layer1 = self._make_layer(block, 32, layers[0])\n",
        "        self.layer2 = self._make_layer(block, 64, layers[1], stride=2,\n",
        "                                       dilate=replace_stride_with_dilation[0])\n",
        "        self.layer3 = self._make_layer(block, 128, layers[2], stride=2,\n",
        "                                       dilate=replace_stride_with_dilation[1])\n",
        "        self.layer4 = self._make_layer(block, 256, layers[3], stride=2,\n",
        "                                       dilate=replace_stride_with_dilation[2])\n",
        "        self.avgpool = nn.AdaptiveAvgPool2d((1, 1))\n",
        "        self.fc = nn.Linear(256 * block.expansion, num_classes)\n",
        "\n",
        "        for m in self.modules():\n",
        "            if isinstance(m, nn.Conv2d):\n",
        "                nn.init.kaiming_normal_(\n",
        "                    m.weight, mode='fan_out', nonlinearity='relu')\n",
        "            elif isinstance(m, (nn.BatchNorm2d, nn.GroupNorm)):\n",
        "                nn.init.constant_(m.weight, 1)\n",
        "                nn.init.constant_(m.bias, 0)\n",
        "\n",
        "        if zero_init_residual:\n",
        "            for m in self.modules():\n",
        "                if isinstance(m, Bottleneck):\n",
        "                    nn.init.constant_(m.bn3.weight, 0)\n",
        "                elif isinstance(m, BasicBlock):\n",
        "                    nn.init.constant_(m.bn2.weight, 0)\n",
        "\n",
        "    def _make_layer(self, block, planes, blocks, stride=1, dilate=False):\n",
        "        norm_layer = self._norm_layer\n",
        "        downsample = None\n",
        "        previous_dilation = self.dilation\n",
        "        if dilate:\n",
        "            self.dilation *= stride\n",
        "            stride = 1\n",
        "        if stride != 1 or self.inplanes != planes * block.expansion:\n",
        "            downsample = nn.Sequential(\n",
        "                conv1x1(self.inplanes, planes * block.expansion, stride),\n",
        "                norm_layer(planes * block.expansion),\n",
        "            )\n",
        "\n",
        "        layers = []\n",
        "        layers.append(block(self.inplanes, planes, stride, downsample, self.groups,\n",
        "                            self.base_width, previous_dilation, norm_layer))\n",
        "        self.inplanes = planes * block.expansion\n",
        "        for _ in range(1, blocks):\n",
        "            layers.append(block(self.inplanes, planes, groups=self.groups,\n",
        "                                base_width=self.base_width, dilation=self.dilation,\n",
        "                                norm_layer=norm_layer))\n",
        "\n",
        "        return nn.Sequential(*layers)\n",
        "\n",
        "    def _forward_impl(self, x):\n",
        "        x = self.conv1(x)\n",
        "        x = self.bn1(x)\n",
        "        x = self.relu(x)\n",
        "        x = self.maxpool(x)\n",
        "\n",
        "        x = self.layer1(x)\n",
        "        x = self.layer2(x)\n",
        "        x = self.layer3(x)\n",
        "        x = self.layer4(x)\n",
        "\n",
        "        x = self.avgpool(x)\n",
        "        x = torch.flatten(x, 1)\n",
        "        x = self.fc(x)\n",
        "\n",
        "        return x\n",
        "\n",
        "    def forward(self, x):\n",
        "        return self._forward_impl(x)\n"
      ],
      "metadata": {
        "id": "PRxBu6zpYIGJ"
      },
      "execution_count": null,
      "outputs": []
    },
    {
      "cell_type": "code",
      "source": [
        "class Cifar10SearchDataset(torchvision.datasets.CIFAR10):\n",
        "    def __init__(self, root=\"~/data/cifar10\", train=True, download=True, transform=None):\n",
        "        super().__init__(root=root, train=train, download=download, transform=transform)\n",
        "\n",
        "    def __getitem__(self, index):\n",
        "        image, label = self.data[index], self.targets[index]\n",
        "\n",
        "        if self.transform is not None:\n",
        "            transformed = self.transform(image=image)\n",
        "            image = transformed[\"image\"]\n",
        "\n",
        "        return image, label"
      ],
      "metadata": {
        "id": "DcnbpuyXDgTE"
      },
      "execution_count": null,
      "outputs": []
    },
    {
      "cell_type": "code",
      "source": [
        "def student_resnet(num_classes, layer):\n",
        "\n",
        "    model = ResNet(block=BasicBlock, layers= layer, num_classes=10)\n",
        "\n",
        "    model.conv1 = nn.Conv2d(3, 64, kernel_size=3, stride=1, padding=1,\n",
        "                            bias=False)\n",
        "\n",
        "    return model"
      ],
      "metadata": {
        "id": "GayBe40xOIhp"
      },
      "execution_count": null,
      "outputs": []
    },
    {
      "cell_type": "code",
      "source": [
        "def student_resnet1(num_classes, layer):\n",
        "\n",
        "    model = ResNet1(block=BasicBlock, layers= layer, num_classes=10)\n",
        "\n",
        "    model.conv1 = nn.Conv2d(3, 64, kernel_size=3, stride=1, padding=1,\n",
        "                            bias=False)\n",
        "\n",
        "    return model"
      ],
      "metadata": {
        "id": "jZ8NXFgUxQfp"
      },
      "execution_count": null,
      "outputs": []
    },
    {
      "cell_type": "code",
      "source": [
        "# run test set\n",
        "\n",
        "criterion = nn.CrossEntropyLoss()\n",
        "\n",
        "def test(model, criterion, test_loader, use_gpu=True):\n",
        "  test_size = len(test_loader.dataset)\n",
        "  device = torch.device( \"cuda:0\" if use_gpu else \"cpu\" )\n",
        "  test_loss = 0.0\n",
        "  test_accuracy = 0\n",
        "  correct = 0\n",
        "  model.eval()\n",
        "  with torch.no_grad():\n",
        "      for i, data in enumerate(test_loader):\n",
        "          # get the inputs; data is a list of [inputs, labels]\n",
        "          inputs, labels = data[0].to(device), data[1].to(device)\n",
        "\n",
        "          # forward + backward + optimize\n",
        "          outputs = model(inputs).to(device)\n",
        "          loss = criterion(outputs, labels)\n",
        "          \n",
        "          test_loss += loss * inputs.size(0)\n",
        "          \n",
        "          # val accuracy\n",
        "          _, predicted = torch.max(outputs.data, 1)\n",
        "          correct += (predicted == labels).sum().item()\n",
        "\n",
        "      \n",
        "      test_loss = test_loss/test_size\n",
        "      test_accuracy = correct/test_size;\n",
        "\n",
        "  return test_loss, test_accuracy"
      ],
      "metadata": {
        "id": "0qCgUPwaud3R"
      },
      "execution_count": null,
      "outputs": []
    },
    {
      "cell_type": "markdown",
      "source": [
        "Baseline"
      ],
      "metadata": {
        "id": "nUHLRLG6v9f5"
      }
    },
    {
      "cell_type": "code",
      "source": [
        "baseline = resnet_18(num_classes = 10).to(device)\n",
        "\n",
        "checkpoint = torch.load('/content/drive/Shareddrives/RDNN/Weights/Copy of resnet18_baseline_cifar10.pth')\n",
        "baseline.load_state_dict(checkpoint['state_dict'])"
      ],
      "metadata": {
        "colab": {
          "base_uri": "https://localhost:8080/"
        },
        "id": "cgKw82tVv9DS",
        "outputId": "ad989a83-b045-4c2e-d9c0-0c964533815c"
      },
      "execution_count": null,
      "outputs": [
        {
          "output_type": "execute_result",
          "data": {
            "text/plain": [
              "<All keys matched successfully>"
            ]
          },
          "metadata": {},
          "execution_count": 10
        }
      ]
    },
    {
      "cell_type": "markdown",
      "source": [
        "Knowledge Distillation"
      ],
      "metadata": {
        "id": "_RDCXarkwK3s"
      }
    },
    {
      "cell_type": "code",
      "source": [
        "student_model_2221 = student_resnet(10, [2,2,2,1]).to(device)\n",
        "checkpoint = torch.load('/content/drive/Shareddrives/RDNN/Weights/student_resnet_50.pth')\n",
        "student_model_2221.load_state_dict(checkpoint['state_dict'])\n",
        "\n",
        "student_model_2212 = student_resnet(10, [2,2,1,2]).to(device)\n",
        "checkpoint = torch.load('/content/drive/Shareddrives/RDNN/Weights/student_resnet_50_2212.pth')\n",
        "student_model_2212.load_state_dict(checkpoint['state_dict'])\n",
        "\n",
        "student_model_1111 = student_resnet(10, [1,1,1,1]).to(device)\n",
        "checkpoint = torch.load('/content/drive/Shareddrives/RDNN/Weights/student_resnet_50_1111.pth')\n",
        "student_model_1111.load_state_dict(checkpoint['state_dict'])\n",
        "\n",
        "student_model1_2222 = student_resnet1(10, [2,2,2,2]).to(device)\n",
        "checkpoint = torch.load('/content/drive/Shareddrives/RDNN/Weights/student_resnet1_50_2222.pth')\n",
        "student_model1_2222.load_state_dict(checkpoint['state_dict'])\n",
        "\n",
        "student_model1_2211 = student_resnet1(10, [2,2,1,1]).to(device)\n",
        "checkpoint = torch.load('/content/drive/Shareddrives/RDNN/Weights/student_resnet1_50_2211.pth')\n",
        "student_model1_2211.load_state_dict(checkpoint['state_dict'])"
      ],
      "metadata": {
        "colab": {
          "base_uri": "https://localhost:8080/"
        },
        "id": "oA9wNhdhwKbD",
        "outputId": "07e7ee20-00f7-494e-e39e-3024cd72f434"
      },
      "execution_count": null,
      "outputs": [
        {
          "output_type": "execute_result",
          "data": {
            "text/plain": [
              "<All keys matched successfully>"
            ]
          },
          "metadata": {},
          "execution_count": 11
        }
      ]
    },
    {
      "cell_type": "markdown",
      "source": [
        "Pruning"
      ],
      "metadata": {
        "id": "x1TiXmglxnBc"
      }
    },
    {
      "cell_type": "code",
      "source": [
        "# Global Unstructured\n",
        "unstruct_global_01 = resnet_18(num_classes = 10).to(device)\n",
        "checkpoint = torch.load('/content/drive/Shareddrives/RDNN/Pruned_Models/global_unstruct_sparsity_0.1.pth')\n",
        "unstruct_global_01.load_state_dict(checkpoint['state_dict'])\n",
        "\n",
        "unstruct_global_04 = resnet_18(num_classes = 10).to(device)\n",
        "checkpoint = torch.load('/content/drive/Shareddrives/RDNN/Pruned_Models/global_unstruct_sparsity_0.4.pth')\n",
        "unstruct_global_04.load_state_dict(checkpoint['state_dict'])\n",
        "\n",
        "unstruct_global_06 = resnet_18(num_classes = 10).to(device)\n",
        "checkpoint = torch.load('/content/drive/Shareddrives/RDNN/Pruned_Models/global_unstruct_sparsity_0.6.pth')\n",
        "unstruct_global_06.load_state_dict(checkpoint['state_dict'])\n",
        "\n",
        "unstruct_global_075 = resnet_18(num_classes = 10).to(device)\n",
        "checkpoint = torch.load('/content/drive/Shareddrives/RDNN/Pruned_Models/global_unstruct_sparsity_0.75.pth')\n",
        "unstruct_global_075.load_state_dict(checkpoint['state_dict'])\n",
        "\n",
        "unstruct_global_09 = resnet_18(num_classes = 10).to(device)\n",
        "checkpoint = torch.load('/content/drive/Shareddrives/RDNN/Pruned_Models/global_unstruct_sparsity_0.9.pth')\n",
        "unstruct_global_09.load_state_dict(checkpoint['state_dict'])"
      ],
      "metadata": {
        "colab": {
          "base_uri": "https://localhost:8080/"
        },
        "id": "OIs-QeglxhEW",
        "outputId": "79039cd0-3374-484c-fae1-663bf5decf7e"
      },
      "execution_count": null,
      "outputs": [
        {
          "output_type": "execute_result",
          "data": {
            "text/plain": [
              "<All keys matched successfully>"
            ]
          },
          "metadata": {},
          "execution_count": 12
        }
      ]
    },
    {
      "cell_type": "code",
      "source": [
        "# local Unstructured\n",
        "\n",
        "unstruct_local_01 = resnet_18(num_classes = 10).to(device)\n",
        "checkpoint = torch.load('/content/drive/Shareddrives/RDNN/Pruned_Models/local_unstruct_sparsity_0.1.pth')\n",
        "unstruct_local_01.load_state_dict(checkpoint['state_dict'])\n",
        "\n",
        "unstruct_local_04 = resnet_18(num_classes = 10).to(device)\n",
        "checkpoint = torch.load('/content/drive/Shareddrives/RDNN/Pruned_Models/local_unstruct_sparsity_0.4.pth')\n",
        "unstruct_local_04.load_state_dict(checkpoint['state_dict'])\n",
        "\n",
        "unstruct_local_06 = resnet_18(num_classes = 10).to(device)\n",
        "checkpoint = torch.load('/content/drive/Shareddrives/RDNN/Pruned_Models/local_unstruct_sparsity_0.6.pth')\n",
        "unstruct_local_06.load_state_dict(checkpoint['state_dict'])\n",
        "\n",
        "unstruct_local_075 = resnet_18(num_classes = 10).to(device)\n",
        "checkpoint = torch.load('/content/drive/Shareddrives/RDNN/Pruned_Models/local_unstruct_sparsity_0.75.pth')\n",
        "unstruct_local_075.load_state_dict(checkpoint['state_dict'])\n",
        "\n",
        "unstruct_local_09 = resnet_18(num_classes = 10).to(device)\n",
        "checkpoint = torch.load('/content/drive/Shareddrives/RDNN/Pruned_Models/local_unstruct_sparsity_0.9.pth')\n",
        "unstruct_local_09.load_state_dict(checkpoint['state_dict'])"
      ],
      "metadata": {
        "colab": {
          "base_uri": "https://localhost:8080/"
        },
        "id": "xTWrZ2tO2DIu",
        "outputId": "1bccba4c-45b7-4151-ec1b-6b464d51bbc7"
      },
      "execution_count": null,
      "outputs": [
        {
          "output_type": "execute_result",
          "data": {
            "text/plain": [
              "<All keys matched successfully>"
            ]
          },
          "metadata": {},
          "execution_count": 13
        }
      ]
    },
    {
      "cell_type": "code",
      "source": [
        "# Structured\n",
        "\n",
        "structured_01 = resnet_18(num_classes = 10).to(device)\n",
        "checkpoint = torch.load('/content/drive/Shareddrives/RDNN/Pruned_Models/structured_sparsity_0.1.pth')\n",
        "structured_01.load_state_dict(checkpoint['state_dict'])\n",
        "\n",
        "structured_04 = resnet_18(num_classes = 10).to(device)\n",
        "checkpoint = torch.load('/content/drive/Shareddrives/RDNN/Pruned_Models/structured_sparsity_0.4.pth')\n",
        "structured_04.load_state_dict(checkpoint['state_dict'])\n",
        "\n",
        "structured_06 = resnet_18(num_classes = 10).to(device)\n",
        "checkpoint = torch.load('/content/drive/Shareddrives/RDNN/Pruned_Models/structured_sparsity_0.6.pth')\n",
        "structured_06.load_state_dict(checkpoint['state_dict'])\n",
        "\n",
        "structured_075 = resnet_18(num_classes = 10).to(device)\n",
        "checkpoint = torch.load('/content/drive/Shareddrives/RDNN/Pruned_Models/structured_sparsity_0.75.pth')\n",
        "structured_075.load_state_dict(checkpoint['state_dict'])\n",
        "\n",
        "structured_09 = resnet_18(num_classes = 10).to(device)\n",
        "checkpoint = torch.load('/content/drive/Shareddrives/RDNN/Pruned_Models/structured_sparsity_0.9.pth')\n",
        "structured_09.load_state_dict(checkpoint['state_dict'])"
      ],
      "metadata": {
        "colab": {
          "base_uri": "https://localhost:8080/"
        },
        "id": "5w2ZfJIM2PUY",
        "outputId": "78eb787f-10c9-4ee8-b2fb-129699d23a85"
      },
      "execution_count": null,
      "outputs": [
        {
          "output_type": "execute_result",
          "data": {
            "text/plain": [
              "<All keys matched successfully>"
            ]
          },
          "metadata": {},
          "execution_count": 14
        }
      ]
    },
    {
      "cell_type": "code",
      "source": [
        "test_transform_no_noise = A.Compose(\n",
        "    [A.Normalize((0.49139968, 0.48215841, 0.44653091), (0.24703223, 0.24348513, 0.26158784)),\n",
        "     ToTensorV2()])\n",
        "\n",
        "test_transform_gaussian = A.Compose(\n",
        "    [A.GaussNoise(var_limit = (0,2), p=1),\n",
        "      A.Normalize((0.49139968, 0.48215841, 0.44653091), (0.24703223, 0.24348513, 0.26158784)),\n",
        "     ToTensorV2()])\n",
        "\n",
        "test_transform_randbright = A.Compose(\n",
        "    [A.RandomBrightnessContrast (brightness_limit=0.2, contrast_limit=0.2, brightness_by_max=True, always_apply=False, p=1),\n",
        "     A.Normalize((0.49139968, 0.48215841, 0.44653091), (0.24703223, 0.24348513, 0.26158784)),\n",
        "     ToTensorV2()])\n",
        "\n",
        "test_transform_isonoise = A.Compose(\n",
        "    [A.ISONoise(color_shift=(0.01, 0.05), intensity=(0.1, 0.5), always_apply=False, p=1),\n",
        "     A.Normalize((0.49139968, 0.48215841, 0.44653091), (0.24703223, 0.24348513, 0.26158784)),\n",
        "     ToTensorV2()])\n",
        "\n",
        "test_transform_rgbshift = A.Compose(\n",
        "    [A.RGBShift(r_shift_limit=20, g_shift_limit=20, b_shift_limit=20, always_apply=False, p=1),\n",
        "     A.Normalize((0.49139968, 0.48215841, 0.44653091), (0.24703223, 0.24348513, 0.26158784)),\n",
        "     ToTensorV2()])\n",
        "\n",
        "test_transform_pixeldrop = A.Compose(\n",
        "    [A.PixelDropout (dropout_prob=0.01, per_channel=False, drop_value=0, mask_drop_value=None, always_apply=False, p=1),\n",
        "     A.Normalize((0.49139968, 0.48215841, 0.44653091), (0.24703223, 0.24348513, 0.26158784)),\n",
        "     ToTensorV2()])\n",
        "\n",
        "test_transform_randomfog = A.Compose(\n",
        "    [A.RandomFog (fog_coef_lower=0.3, fog_coef_upper=1, alpha_coef=0.08, always_apply=False, p=1),\n",
        "     A.Normalize((0.49139968, 0.48215841, 0.44653091), (0.24703223, 0.24348513, 0.26158784)),\n",
        "     ToTensorV2()])"
      ],
      "metadata": {
        "id": "ZKDFxBh_4DCj"
      },
      "execution_count": null,
      "outputs": []
    },
    {
      "cell_type": "code",
      "source": [
        "noise = [test_transform_no_noise, test_transform_gaussian ,test_transform_randbright, test_transform_isonoise, test_transform_rgbshift,\n",
        "         test_transform_pixeldrop,  test_transform_randomfog]"
      ],
      "metadata": {
        "id": "SH2DeiHA46h9"
      },
      "execution_count": null,
      "outputs": []
    },
    {
      "cell_type": "code",
      "source": [
        "noise_labels = ['test_transform_no_noise','test_transform_gaussian' ,'test_transform_randbright', 'test_transform_isonoise', 'test_transform_rgbshift',\n",
        "         'test_transform_pixeldrop',  'test_transform_randomfog']"
      ],
      "metadata": {
        "id": "IWfPECouFNCc"
      },
      "execution_count": null,
      "outputs": []
    },
    {
      "cell_type": "code",
      "source": [
        "def load_test(noise_label):\n",
        "  test_ds= Cifar10SearchDataset(root='./data', train=False,\n",
        "                                       download=True, transform=noise_label)\n",
        "  torch.manual_seed(50)\n",
        "  test_size = len(test_ds)\n",
        "  batch_size = 256\n",
        "\n",
        "  test_loader = torch.utils.data.DataLoader(test_ds, batch_size=batch_size, shuffle=False)\n",
        "  return test_ds, test_loader"
      ],
      "metadata": {
        "id": "CK_marRP5gPk"
      },
      "execution_count": null,
      "outputs": []
    },
    {
      "cell_type": "code",
      "source": [
        "import matplotlib.pyplot as plt"
      ],
      "metadata": {
        "id": "tmydJYZh6Ufv"
      },
      "execution_count": null,
      "outputs": []
    },
    {
      "cell_type": "code",
      "source": [
        "models = [baseline,\n",
        "          student_model_2221, student_model_2212,student_model_1111, student_model1_2222,student_model1_2211,\n",
        "          unstruct_global_01, unstruct_global_04, unstruct_global_06, unstruct_global_075, unstruct_global_09,\n",
        "          unstruct_local_01, unstruct_local_04, unstruct_local_06, unstruct_local_075, unstruct_local_09,\n",
        "          structured_01, structured_04, structured_06, structured_075, structured_09]"
      ],
      "metadata": {
        "id": "zA8k4tm66cPh"
      },
      "execution_count": null,
      "outputs": []
    },
    {
      "cell_type": "code",
      "source": [
        "models = [baseline,\n",
        "          student_model_2221]"
      ],
      "metadata": {
        "id": "EUefqtkEJLBA"
      },
      "execution_count": null,
      "outputs": []
    },
    {
      "cell_type": "code",
      "source": [
        "model_labels = ['baseline',\n",
        "          'student_model_2221', 'student_model_2212','student_model_1111', 'student_model1_2222','student_model1_2211',\n",
        "          'unstruct_global_01', 'unstruct_global_04', 'unstruct_global_06', 'unstruct_global_075', 'unstruct_global_09',\n",
        "          'unstruct_local_01', 'unstruct_local_04', 'unstruct_local_06', 'unstruct_local_075', 'unstruct_local_09',\n",
        "          'structured_01', 'structured_04', 'structured_06', 'structured_075', 'structured_09']"
      ],
      "metadata": {
        "id": "5Lbo9vZVFyM3"
      },
      "execution_count": null,
      "outputs": []
    },
    {
      "cell_type": "code",
      "source": [
        "import csv"
      ],
      "metadata": {
        "id": "57Nr1J64IFOU"
      },
      "execution_count": null,
      "outputs": []
    },
    {
      "cell_type": "code",
      "source": [
        "# Test the various odels on different noises and save the results\n",
        "\n",
        "for i in range(len(models)):\n",
        "  model = models[i]\n",
        "  model_name = model_labels[i]\n",
        "\n",
        "  model_name_dict = dict()\n",
        "  for y in range(len(noise)):\n",
        "    n = noise[y]\n",
        "    noise_name = noise_labels[y]\n",
        "    test_ds, test_loader = load_test(n)\n",
        "\n",
        "    _ , test_accuracy =test(model, criterion, test_loader, use_gpu=True)\n",
        "    model_name_dict[f'{noise_name}'] = test_accuracy\n",
        "\n",
        "  with open(f'/content/{model_name}.csv','w') as f:\n",
        "    for key in model_name_dict.keys():\n",
        "      f.write(\"%s, %f\\n\"%(key,model_name_dict[key]))"
      ],
      "metadata": {
        "id": "boR5siMNDjKm"
      },
      "execution_count": null,
      "outputs": []
    }
  ]
}